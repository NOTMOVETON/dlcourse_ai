{
 "cells": [
  {
   "cell_type": "markdown",
   "metadata": {},
   "source": [
    "# Задание 2.1 - Нейронные сети\n",
    "\n",
    "В этом задании вы реализуете и натренируете настоящую нейроную сеть своими руками!\n",
    "\n",
    "В некотором смысле это будет расширением прошлого задания - нам нужно просто составить несколько линейных классификаторов вместе!\n",
    "\n",
    "<img src=\"https://i.redd.it/n9fgba8b0qr01.png\" alt=\"Stack_more_layers\" width=\"400px\"/>"
   ]
  },
  {
   "cell_type": "code",
   "execution_count": 3,
   "metadata": {},
   "outputs": [],
   "source": [
    "import numpy as np\n",
    "import matplotlib.pyplot as plt"
   ]
  },
  {
   "cell_type": "code",
   "execution_count": 4,
   "metadata": {},
   "outputs": [],
   "source": [
    "from dataset import load_svhn, random_split_train_val\n",
    "from gradient_check import check_layer_gradient, check_layer_param_gradient, check_model_gradient\n",
    "from layers import FullyConnectedLayer, ReLULayer\n",
    "from model import TwoLayerNet\n",
    "from trainer import Trainer, Dataset\n",
    "from optim import SGD, MomentumSGD\n",
    "from metrics import multiclass_accuracy"
   ]
  },
  {
   "cell_type": "markdown",
   "metadata": {},
   "source": [
    "# Загружаем данные\n",
    "\n",
    "И разделяем их на training и validation."
   ]
  },
  {
   "cell_type": "code",
   "execution_count": 5,
   "metadata": {},
   "outputs": [],
   "source": [
    "def prepare_for_neural_network(train_X, test_X):\n",
    "    train_flat = train_X.reshape(train_X.shape[0], -1).astype(np.float32) / 255.0\n",
    "    test_flat = test_X.reshape(test_X.shape[0], -1).astype(np.float32) / 255.0\n",
    "    \n",
    "    # Subtract mean\n",
    "    mean_image = np.mean(train_flat, axis = 0)\n",
    "    train_flat -= mean_image\n",
    "    test_flat -= mean_image\n",
    "    \n",
    "    return train_flat, test_flat\n",
    "    \n",
    "train_X, train_y, test_X, test_y = load_svhn(\"../data\", max_train=10000, max_test=1000)    \n",
    "train_X, test_X = prepare_for_neural_network(train_X, test_X)\n",
    "# Split train into train and val\n",
    "train_X, train_y, val_X, val_y = random_split_train_val(train_X, train_y, num_val = 1000)"
   ]
  },
  {
   "cell_type": "markdown",
   "metadata": {},
   "source": [
    "# Как всегда, начинаем с кирпичиков\n",
    "\n",
    "Мы будем реализовывать необходимые нам слои по очереди. Каждый слой должен реализовать:\n",
    "- прямой проход (forward pass), который генерирует выход слоя по входу и запоминает необходимые данные\n",
    "- обратный проход (backward pass), который получает градиент по выходу слоя и вычисляет градиент по входу и по параметрам\n",
    "\n",
    "Начнем с ReLU, у которого параметров нет."
   ]
  },
  {
   "cell_type": "code",
   "execution_count": 4,
   "metadata": {
    "scrolled": false
   },
   "outputs": [
    {
     "name": "stdout",
     "output_type": "stream",
     "text": [
      "Gradient check passed!\n"
     ]
    }
   ],
   "source": [
    "# TODO: Implement ReLULayer layer in layers.py\n",
    "# Note: you'll need to copy implementation of the gradient_check function from the previous assignment\n",
    "\n",
    "X = np.array([[1,-2,3],\n",
    "              [-1, 2, 0.1]\n",
    "              ])\n",
    "\n",
    "assert check_layer_gradient(ReLULayer(), X)"
   ]
  },
  {
   "cell_type": "markdown",
   "metadata": {},
   "source": [
    "А теперь реализуем полносвязный слой (fully connected layer), у которого будет два массива параметров: W (weights) и B (bias).\n",
    "\n",
    "Все параметры наши слои будут использовать для параметров специальный класс `Param`, в котором будут храниться значения параметров и градиенты этих параметров, вычисляемые во время обратного прохода.\n",
    "\n",
    "Это даст возможность аккумулировать (суммировать) градиенты из разных частей функции потерь, например, из cross-entropy loss и regularization loss."
   ]
  },
  {
   "cell_type": "code",
   "execution_count": 5,
   "metadata": {},
   "outputs": [
    {
     "name": "stdout",
     "output_type": "stream",
     "text": [
      "Gradient check passed!\n",
      "Gradient check passed!\n",
      "Gradient check passed!\n"
     ]
    }
   ],
   "source": [
    "# TODO: Implement FullyConnected layer forward and backward methods\n",
    "assert check_layer_gradient(FullyConnectedLayer(3, 4), X)\n",
    "# TODO: Implement storing gradients for W and B\n",
    "assert check_layer_param_gradient(FullyConnectedLayer(3, 4), X, 'W')\n",
    "assert check_layer_param_gradient(FullyConnectedLayer(3, 4), X, 'B')"
   ]
  },
  {
   "cell_type": "markdown",
   "metadata": {},
   "source": [
    "## Создаем нейронную сеть\n",
    "\n",
    "Теперь мы реализуем простейшую нейронную сеть с двумя полносвязным слоями и нелинейностью ReLU. Реализуйте функцию `compute_loss_and_gradients`, она должна запустить прямой и обратный проход через оба слоя для вычисления градиентов.\n",
    "\n",
    "Не забудьте реализовать очистку градиентов в начале функции."
   ]
  },
  {
   "cell_type": "code",
   "execution_count": 6,
   "metadata": {},
   "outputs": [
    {
     "name": "stdout",
     "output_type": "stream",
     "text": [
      "Checking gradient for W1\n",
      "Gradient check passed!\n",
      "Checking gradient for B1\n",
      "Gradient check passed!\n",
      "Checking gradient for W2\n",
      "Gradient check passed!\n",
      "Checking gradient for B2\n",
      "Gradient check passed!\n"
     ]
    },
    {
     "data": {
      "text/plain": [
       "True"
      ]
     },
     "execution_count": 6,
     "metadata": {},
     "output_type": "execute_result"
    }
   ],
   "source": [
    "# TODO: In model.py, implement compute_loss_and_gradients function\n",
    "model = TwoLayerNet(n_input = train_X.shape[1], n_output = 10, hidden_layer_size = 3, reg = 0)\n",
    "loss = model.compute_loss_and_gradients(train_X[:2], train_y[:2])\n",
    "\n",
    "# TODO Now implement backward pass and aggregate all of the params\n",
    "check_model_gradient(model, train_X[:2], train_y[:2])"
   ]
  },
  {
   "cell_type": "markdown",
   "metadata": {},
   "source": [
    "Теперь добавьте к модели регуляризацию - она должна прибавляться к loss и делать свой вклад в градиенты."
   ]
  },
  {
   "cell_type": "code",
   "execution_count": 7,
   "metadata": {},
   "outputs": [
    {
     "name": "stdout",
     "output_type": "stream",
     "text": [
      "Checking gradient for W1\n",
      "Gradient check passed!\n",
      "Checking gradient for B1\n",
      "Gradient check passed!\n",
      "Checking gradient for W2\n",
      "Gradient check passed!\n",
      "Checking gradient for B2\n",
      "Gradient check passed!\n"
     ]
    },
    {
     "data": {
      "text/plain": [
       "True"
      ]
     },
     "execution_count": 7,
     "metadata": {},
     "output_type": "execute_result"
    }
   ],
   "source": [
    "# TODO Now implement l2 regularization in the forward and backward pass\n",
    "model_with_reg = TwoLayerNet(n_input = train_X.shape[1], n_output = 10, hidden_layer_size = 3, reg = 1e1)\n",
    "loss_with_reg = model_with_reg.compute_loss_and_gradients(train_X[:2], train_y[:2])\n",
    "assert loss_with_reg > loss and not np.isclose(loss_with_reg, loss), \\\n",
    "    \"Loss with regularization (%2.4f) should be higher than without it (%2.4f)!\" % (loss, loss_with_reg)\n",
    "\n",
    "check_model_gradient(model_with_reg, train_X[:2], train_y[:2])"
   ]
  },
  {
   "cell_type": "markdown",
   "metadata": {},
   "source": [
    "Также реализуем функцию предсказания (вычисления значения) модели на новых данных.\n",
    "\n",
    "Какое значение точности мы ожидаем увидеть до начала тренировки?"
   ]
  },
  {
   "cell_type": "code",
   "execution_count": 8,
   "metadata": {},
   "outputs": [
    {
     "name": "stdout",
     "output_type": "stream",
     "text": [
      "Accuracy = 0.13953488372093023\n"
     ]
    }
   ],
   "source": [
    "# Finally, implement predict function!\n",
    "\n",
    "# TODO: Implement predict function\n",
    "# What would be the value we expect?\n",
    "accuracy = multiclass_accuracy(model_with_reg.predict(train_X[:301]), train_y[:301]) \n",
    "print(f'Accuracy = {accuracy}')"
   ]
  },
  {
   "cell_type": "markdown",
   "metadata": {},
   "source": [
    "# Допишем код для процесса тренировки\n",
    "\n",
    "Если все реализовано корректно, значение функции ошибки должно уменьшаться с каждой эпохой, пусть и медленно. Не беспокойтесь пока про validation accuracy."
   ]
  },
  {
   "cell_type": "code",
   "execution_count": 10,
   "metadata": {},
   "outputs": [
    {
     "name": "stdout",
     "output_type": "stream",
     "text": [
      "Loss: 2.302418, Train accuracy: 0.148222, val accuracy: 0.140000\n",
      "Loss: 2.302628, Train accuracy: 0.196667, val accuracy: 0.206000\n",
      "Loss: 2.302464, Train accuracy: 0.196667, val accuracy: 0.206000\n",
      "Loss: 2.302329, Train accuracy: 0.148222, val accuracy: 0.140000\n",
      "Loss: 2.301247, Train accuracy: 0.196667, val accuracy: 0.206000\n",
      "Loss: 2.301979, Train accuracy: 0.196667, val accuracy: 0.206000\n",
      "Loss: 2.301463, Train accuracy: 0.196667, val accuracy: 0.206000\n",
      "Loss: 2.301558, Train accuracy: 0.148222, val accuracy: 0.140000\n",
      "Loss: 2.302494, Train accuracy: 0.196667, val accuracy: 0.206000\n",
      "Loss: 2.302230, Train accuracy: 0.148222, val accuracy: 0.140000\n",
      "Loss: 2.302170, Train accuracy: 0.196667, val accuracy: 0.206000\n",
      "Loss: 2.302405, Train accuracy: 0.196667, val accuracy: 0.206000\n",
      "Loss: 2.302168, Train accuracy: 0.196667, val accuracy: 0.206000\n",
      "Loss: 2.302469, Train accuracy: 0.196667, val accuracy: 0.206000\n",
      "Loss: 2.301262, Train accuracy: 0.196667, val accuracy: 0.206000\n",
      "Loss: 2.301506, Train accuracy: 0.196667, val accuracy: 0.206000\n",
      "Loss: 2.302675, Train accuracy: 0.148222, val accuracy: 0.140000\n",
      "Loss: 2.302514, Train accuracy: 0.114222, val accuracy: 0.147000\n",
      "Loss: 2.302174, Train accuracy: 0.196667, val accuracy: 0.206000\n",
      "Loss: 2.302764, Train accuracy: 0.196667, val accuracy: 0.206000\n"
     ]
    }
   ],
   "source": [
    "model = TwoLayerNet(n_input = train_X.shape[1], n_output = 10, hidden_layer_size = 100, reg = 1e1)\n",
    "dataset = Dataset(train_X, train_y, val_X, val_y)\n",
    "trainer = Trainer(model, dataset, SGD(), learning_rate = 1e-2)\n",
    "\n",
    "# TODO Implement missing pieces in Trainer.fit function\n",
    "# You should expect loss to go down every epoch, even if it's slow\n",
    "loss_history, train_history, val_history = trainer.fit()"
   ]
  },
  {
   "cell_type": "code",
   "execution_count": 11,
   "metadata": {},
   "outputs": [
    {
     "data": {
      "text/plain": [
       "[<matplotlib.lines.Line2D at 0x71b6c2824eb0>]"
      ]
     },
     "execution_count": 11,
     "metadata": {},
     "output_type": "execute_result"
    },
    {
     "data": {
      "image/png": "[encoded data removed]",
      "text/plain": [
       "<Figure size 640x480 with 1 Axes>"
      ]
     },
     "metadata": {},
     "output_type": "display_data"
    }
   ],
   "source": [
    "plt.plot(train_history)\n",
    "plt.plot(val_history)"
   ]
  },
  {
   "cell_type": "markdown",
   "metadata": {},
   "source": [
    "# Улучшаем процесс тренировки\n",
    "\n",
    "Мы реализуем несколько ключевых оптимизаций, необходимых для тренировки современных нейросетей."
   ]
  },
  {
   "cell_type": "markdown",
   "metadata": {},
   "source": [
    "## Уменьшение скорости обучения (learning rate decay)\n",
    "\n",
    "Одна из необходимых оптимизаций во время тренировки нейронных сетей - постепенное уменьшение скорости обучения по мере тренировки.\n",
    "\n",
    "Один из стандартных методов - уменьшение скорости обучения (learning rate) каждые N эпох на коэффициент d (часто называемый decay). Значения N и d, как всегда, являются гиперпараметрами и должны подбираться на основе эффективности на проверочных данных (validation data). \n",
    "\n",
    "В нашем случае N будет равным 1."
   ]
  },
  {
   "cell_type": "code",
   "execution_count": 12,
   "metadata": {},
   "outputs": [
    {
     "name": "stdout",
     "output_type": "stream",
     "text": [
      "Loss: 2.265294, Train accuracy: 0.196667, val accuracy: 0.206000\n",
      "Loss: 2.260485, Train accuracy: 0.196667, val accuracy: 0.206000\n",
      "Loss: 2.271496, Train accuracy: 0.196667, val accuracy: 0.206000\n",
      "Loss: 2.316115, Train accuracy: 0.196667, val accuracy: 0.206000\n",
      "Loss: 2.321655, Train accuracy: 0.196667, val accuracy: 0.206000\n",
      "Loss: 2.323110, Train accuracy: 0.196667, val accuracy: 0.206000\n",
      "Loss: 2.220317, Train accuracy: 0.196667, val accuracy: 0.206000\n",
      "Loss: 2.241026, Train accuracy: 0.196667, val accuracy: 0.206000\n",
      "Loss: 2.225632, Train accuracy: 0.196667, val accuracy: 0.206000\n",
      "Loss: 2.287493, Train accuracy: 0.196667, val accuracy: 0.206000\n",
      "Loss: 2.246157, Train accuracy: 0.196667, val accuracy: 0.206000\n",
      "Loss: 2.271511, Train accuracy: 0.196667, val accuracy: 0.206000\n",
      "Loss: 2.232086, Train accuracy: 0.196667, val accuracy: 0.206000\n",
      "Loss: 2.232214, Train accuracy: 0.196667, val accuracy: 0.206000\n",
      "Loss: 2.335404, Train accuracy: 0.196667, val accuracy: 0.206000\n",
      "Loss: 2.248684, Train accuracy: 0.196667, val accuracy: 0.206000\n",
      "Loss: 2.247683, Train accuracy: 0.196667, val accuracy: 0.206000\n",
      "Loss: 2.228388, Train accuracy: 0.196667, val accuracy: 0.206000\n",
      "Loss: 2.214329, Train accuracy: 0.196667, val accuracy: 0.206000\n",
      "Loss: 2.257727, Train accuracy: 0.196667, val accuracy: 0.206000\n"
     ]
    }
   ],
   "source": [
    "# TODO Implement learning rate decay inside Trainer.fit method\n",
    "# Decay should happen once per epoch\n",
    "\n",
    "model = TwoLayerNet(n_input = train_X.shape[1], n_output = 10, hidden_layer_size = 100, reg = 1e-1)\n",
    "dataset = Dataset(train_X, train_y, val_X, val_y)\n",
    "trainer = Trainer(model, dataset, SGD(), learning_rate_decay=0.99)\n",
    "\n",
    "initial_learning_rate = trainer.learning_rate\n",
    "loss_history, train_history, val_history = trainer.fit()\n",
    "\n",
    "assert trainer.learning_rate < initial_learning_rate, \"Learning rate should've been reduced\"\n",
    "assert trainer.learning_rate > 0.5*initial_learning_rate, \"Learning rate shouldn'tve been reduced that much!\""
   ]
  },
  {
   "cell_type": "markdown",
   "metadata": {},
   "source": [
    "# Накопление импульса (Momentum SGD)\n",
    "\n",
    "Другой большой класс оптимизаций - использование более эффективных методов градиентного спуска. Мы реализуем один из них - накопление импульса (Momentum SGD).\n",
    "\n",
    "Этот метод хранит скорость движения, использует градиент для ее изменения на каждом шаге, и изменяет веса пропорционально значению скорости.\n",
    "(Физическая аналогия: Вместо скорости градиенты теперь будут задавать ускорение, но будет присутствовать сила трения.)\n",
    "\n",
    "```\n",
    "velocity = momentum * velocity - learning_rate * gradient \n",
    "w = w + velocity\n",
    "```\n",
    "\n",
    "`momentum` здесь коэффициент затухания, который тоже является гиперпараметром (к счастью, для него часто есть хорошее значение по умолчанию, типичный диапазон -- 0.8-0.99).\n",
    "\n",
    "Несколько полезных ссылок, где метод разбирается более подробно:  \n",
    "http://cs231n.github.io/neural-networks-3/#sgd  \n",
    "https://distill.pub/2017/momentum/"
   ]
  },
  {
   "cell_type": "code",
   "execution_count": 6,
   "metadata": {},
   "outputs": [
    {
     "name": "stdout",
     "output_type": "stream",
     "text": [
      "Loss: 2.314389, Train accuracy: 0.196667, val accuracy: 0.206000\n",
      "Loss: 2.315966, Train accuracy: 0.196667, val accuracy: 0.206000\n",
      "Loss: 2.301860, Train accuracy: 0.196667, val accuracy: 0.206000\n",
      "Loss: 2.290293, Train accuracy: 0.196667, val accuracy: 0.206000\n",
      "Loss: 2.292511, Train accuracy: 0.196667, val accuracy: 0.206000\n",
      "Loss: 2.307697, Train accuracy: 0.196667, val accuracy: 0.206000\n",
      "Loss: 2.248730, Train accuracy: 0.196667, val accuracy: 0.206000\n",
      "Loss: 2.295852, Train accuracy: 0.196667, val accuracy: 0.206000\n",
      "Loss: 2.306644, Train accuracy: 0.196667, val accuracy: 0.206000\n",
      "Loss: 2.294334, Train accuracy: 0.196667, val accuracy: 0.206000\n",
      "Loss: 2.258642, Train accuracy: 0.196667, val accuracy: 0.206000\n",
      "Loss: 2.274892, Train accuracy: 0.196667, val accuracy: 0.206000\n",
      "Loss: 2.267427, Train accuracy: 0.196667, val accuracy: 0.206000\n",
      "Loss: 2.309473, Train accuracy: 0.196667, val accuracy: 0.206000\n",
      "Loss: 2.277864, Train accuracy: 0.196667, val accuracy: 0.206000\n",
      "Loss: 2.288340, Train accuracy: 0.196667, val accuracy: 0.206000\n",
      "Loss: 2.301318, Train accuracy: 0.196667, val accuracy: 0.206000\n",
      "Loss: 2.239600, Train accuracy: 0.196667, val accuracy: 0.206000\n",
      "Loss: 2.242894, Train accuracy: 0.196667, val accuracy: 0.206000\n",
      "Loss: 2.263950, Train accuracy: 0.196667, val accuracy: 0.206000\n"
     ]
    }
   ],
   "source": [
    "# TODO: Implement MomentumSGD.update function in optim.py\n",
    "\n",
    "model = TwoLayerNet(n_input = train_X.shape[1], n_output = 10, hidden_layer_size = 100, reg = 1e-1)\n",
    "dataset = Dataset(train_X, train_y, val_X, val_y)\n",
    "trainer = Trainer(model, dataset, MomentumSGD(), learning_rate=1e-4, learning_rate_decay=0.99)\n",
    "\n",
    "# You should see even better results than before!\n",
    "loss_history, train_history, val_history = trainer.fit()"
   ]
  },
  {
   "cell_type": "markdown",
   "metadata": {},
   "source": [
    "# Ну что, давайте уже тренировать сеть!"
   ]
  },
  {
   "cell_type": "markdown",
   "metadata": {},
   "source": [
    "## Последний тест - переобучимся (overfit) на маленьком наборе данных\n",
    "\n",
    "Хороший способ проверить, все ли реализовано корректно - переобучить сеть на маленьком наборе данных.  \n",
    "Наша модель обладает достаточной мощностью, чтобы приблизить маленький набор данных идеально, поэтому мы ожидаем, что на нем мы быстро дойдем до 100% точности на тренировочном наборе. \n",
    "\n",
    "Если этого не происходит, то где-то была допущена ошибка!"
   ]
  },
  {
   "cell_type": "code",
   "execution_count": 7,
   "metadata": {},
   "outputs": [
    {
     "name": "stdout",
     "output_type": "stream",
     "text": [
      "Loss: 2.335318, Train accuracy: 0.200000, val accuracy: 0.133333\n",
      "Loss: 2.311951, Train accuracy: 0.200000, val accuracy: 0.066667\n",
      "Loss: 2.295570, Train accuracy: 0.266667, val accuracy: 0.000000\n",
      "Loss: 2.287546, Train accuracy: 0.200000, val accuracy: 0.133333\n",
      "Loss: 2.265782, Train accuracy: 0.200000, val accuracy: 0.133333\n",
      "Loss: 2.246501, Train accuracy: 0.200000, val accuracy: 0.133333\n",
      "Loss: 2.260389, Train accuracy: 0.200000, val accuracy: 0.066667\n",
      "Loss: 2.248044, Train accuracy: 0.266667, val accuracy: 0.000000\n",
      "Loss: 2.205284, Train accuracy: 0.400000, val accuracy: 0.000000\n",
      "Loss: 2.310866, Train accuracy: 0.400000, val accuracy: 0.000000\n",
      "Loss: 2.032767, Train accuracy: 0.400000, val accuracy: 0.000000\n",
      "Loss: 1.822367, Train accuracy: 0.400000, val accuracy: 0.000000\n",
      "Loss: 1.927760, Train accuracy: 0.400000, val accuracy: 0.000000\n",
      "Loss: 2.066938, Train accuracy: 0.400000, val accuracy: 0.000000\n",
      "Loss: 1.997850, Train accuracy: 0.333333, val accuracy: 0.000000\n",
      "Loss: 1.814791, Train accuracy: 0.400000, val accuracy: 0.000000\n",
      "Loss: 2.073774, Train accuracy: 0.400000, val accuracy: 0.000000\n",
      "Loss: 1.574418, Train accuracy: 0.400000, val accuracy: 0.000000\n",
      "Loss: 2.165375, Train accuracy: 0.400000, val accuracy: 0.000000\n",
      "Loss: 2.085606, Train accuracy: 0.400000, val accuracy: 0.000000\n",
      "Loss: 1.718315, Train accuracy: 0.400000, val accuracy: 0.000000\n",
      "Loss: 1.850778, Train accuracy: 0.400000, val accuracy: 0.000000\n",
      "Loss: 1.722771, Train accuracy: 0.466667, val accuracy: 0.000000\n",
      "Loss: 1.888647, Train accuracy: 0.466667, val accuracy: 0.066667\n",
      "Loss: 1.514044, Train accuracy: 0.466667, val accuracy: 0.000000\n",
      "Loss: 1.742772, Train accuracy: 0.466667, val accuracy: 0.000000\n",
      "Loss: 1.538439, Train accuracy: 0.466667, val accuracy: 0.066667\n",
      "Loss: 1.456554, Train accuracy: 0.400000, val accuracy: 0.000000\n",
      "Loss: 1.969204, Train accuracy: 0.533333, val accuracy: 0.066667\n",
      "Loss: 1.361201, Train accuracy: 0.466667, val accuracy: 0.066667\n",
      "Loss: 1.890248, Train accuracy: 0.466667, val accuracy: 0.066667\n",
      "Loss: 1.582320, Train accuracy: 0.533333, val accuracy: 0.000000\n",
      "Loss: 1.558689, Train accuracy: 0.533333, val accuracy: 0.066667\n",
      "Loss: 1.748884, Train accuracy: 0.533333, val accuracy: 0.066667\n",
      "Loss: 1.201230, Train accuracy: 0.533333, val accuracy: 0.066667\n",
      "Loss: 1.599943, Train accuracy: 0.600000, val accuracy: 0.066667\n",
      "Loss: 1.740044, Train accuracy: 0.600000, val accuracy: 0.066667\n",
      "Loss: 1.303561, Train accuracy: 0.666667, val accuracy: 0.066667\n",
      "Loss: 1.838873, Train accuracy: 0.666667, val accuracy: 0.066667\n",
      "Loss: 1.672391, Train accuracy: 0.666667, val accuracy: 0.066667\n",
      "Loss: 1.057539, Train accuracy: 0.666667, val accuracy: 0.066667\n",
      "Loss: 1.572934, Train accuracy: 0.666667, val accuracy: 0.066667\n",
      "Loss: 1.565431, Train accuracy: 0.666667, val accuracy: 0.066667\n",
      "Loss: 1.434759, Train accuracy: 0.666667, val accuracy: 0.066667\n",
      "Loss: 1.439200, Train accuracy: 0.733333, val accuracy: 0.066667\n",
      "Loss: 1.674791, Train accuracy: 0.733333, val accuracy: 0.066667\n",
      "Loss: 1.300753, Train accuracy: 0.733333, val accuracy: 0.066667\n",
      "Loss: 1.414523, Train accuracy: 0.733333, val accuracy: 0.000000\n",
      "Loss: 1.380366, Train accuracy: 0.733333, val accuracy: 0.066667\n",
      "Loss: 1.179383, Train accuracy: 0.733333, val accuracy: 0.133333\n",
      "Loss: 1.589046, Train accuracy: 0.733333, val accuracy: 0.066667\n",
      "Loss: 1.755227, Train accuracy: 0.733333, val accuracy: 0.133333\n",
      "Loss: 1.339494, Train accuracy: 0.733333, val accuracy: 0.066667\n",
      "Loss: 1.626733, Train accuracy: 0.733333, val accuracy: 0.133333\n",
      "Loss: 1.655515, Train accuracy: 0.733333, val accuracy: 0.133333\n",
      "Loss: 1.718111, Train accuracy: 0.733333, val accuracy: 0.066667\n",
      "Loss: 1.631470, Train accuracy: 0.733333, val accuracy: 0.066667\n",
      "Loss: 1.585661, Train accuracy: 0.733333, val accuracy: 0.066667\n",
      "Loss: 1.837909, Train accuracy: 0.733333, val accuracy: 0.133333\n",
      "Loss: 1.208813, Train accuracy: 0.733333, val accuracy: 0.066667\n",
      "Loss: 1.129894, Train accuracy: 0.733333, val accuracy: 0.066667\n",
      "Loss: 1.136630, Train accuracy: 0.733333, val accuracy: 0.066667\n",
      "Loss: 1.267572, Train accuracy: 0.800000, val accuracy: 0.066667\n",
      "Loss: 1.025491, Train accuracy: 0.733333, val accuracy: 0.066667\n",
      "Loss: 1.193503, Train accuracy: 0.800000, val accuracy: 0.066667\n",
      "Loss: 1.295817, Train accuracy: 0.800000, val accuracy: 0.066667\n",
      "Loss: 1.539221, Train accuracy: 0.866667, val accuracy: 0.066667\n",
      "Loss: 1.939656, Train accuracy: 0.866667, val accuracy: 0.066667\n",
      "Loss: 1.264845, Train accuracy: 0.866667, val accuracy: 0.066667\n",
      "Loss: 1.252366, Train accuracy: 0.866667, val accuracy: 0.066667\n",
      "Loss: 1.345191, Train accuracy: 0.866667, val accuracy: 0.066667\n",
      "Loss: 1.353405, Train accuracy: 0.866667, val accuracy: 0.066667\n",
      "Loss: 1.232772, Train accuracy: 0.866667, val accuracy: 0.066667\n",
      "Loss: 1.314452, Train accuracy: 0.866667, val accuracy: 0.066667\n",
      "Loss: 1.307179, Train accuracy: 0.933333, val accuracy: 0.066667\n",
      "Loss: 1.268884, Train accuracy: 0.933333, val accuracy: 0.066667\n",
      "Loss: 1.469511, Train accuracy: 0.866667, val accuracy: 0.066667\n",
      "Loss: 0.947008, Train accuracy: 0.866667, val accuracy: 0.066667\n",
      "Loss: 1.534323, Train accuracy: 0.933333, val accuracy: 0.066667\n",
      "Loss: 1.452810, Train accuracy: 0.933333, val accuracy: 0.066667\n",
      "Loss: 1.481383, Train accuracy: 0.933333, val accuracy: 0.066667\n",
      "Loss: 1.233301, Train accuracy: 0.933333, val accuracy: 0.066667\n",
      "Loss: 1.584642, Train accuracy: 0.933333, val accuracy: 0.066667\n",
      "Loss: 1.530113, Train accuracy: 0.933333, val accuracy: 0.066667\n",
      "Loss: 1.245084, Train accuracy: 0.933333, val accuracy: 0.000000\n",
      "Loss: 1.780489, Train accuracy: 0.933333, val accuracy: 0.000000\n",
      "Loss: 1.308473, Train accuracy: 0.933333, val accuracy: 0.000000\n",
      "Loss: 1.483605, Train accuracy: 0.933333, val accuracy: 0.000000\n",
      "Loss: 1.118607, Train accuracy: 0.933333, val accuracy: 0.000000\n",
      "Loss: 1.247546, Train accuracy: 0.933333, val accuracy: 0.000000\n",
      "Loss: 1.974944, Train accuracy: 0.933333, val accuracy: 0.000000\n",
      "Loss: 1.713511, Train accuracy: 0.933333, val accuracy: 0.000000\n",
      "Loss: 1.329899, Train accuracy: 0.933333, val accuracy: 0.000000\n",
      "Loss: 1.061692, Train accuracy: 0.933333, val accuracy: 0.000000\n",
      "Loss: 1.431251, Train accuracy: 0.933333, val accuracy: 0.000000\n",
      "Loss: 1.354267, Train accuracy: 0.933333, val accuracy: 0.000000\n",
      "Loss: 1.226860, Train accuracy: 0.933333, val accuracy: 0.000000\n",
      "Loss: 1.324768, Train accuracy: 0.933333, val accuracy: 0.000000\n",
      "Loss: 1.211724, Train accuracy: 0.933333, val accuracy: 0.000000\n",
      "Loss: 1.351204, Train accuracy: 0.933333, val accuracy: 0.000000\n",
      "Loss: 1.403229, Train accuracy: 0.933333, val accuracy: 0.000000\n",
      "Loss: 1.198644, Train accuracy: 1.000000, val accuracy: 0.000000\n",
      "Loss: 1.289505, Train accuracy: 1.000000, val accuracy: 0.000000\n",
      "Loss: 1.515510, Train accuracy: 0.933333, val accuracy: 0.000000\n",
      "Loss: 1.114026, Train accuracy: 0.933333, val accuracy: 0.000000\n",
      "Loss: 1.148104, Train accuracy: 1.000000, val accuracy: 0.000000\n",
      "Loss: 1.649851, Train accuracy: 1.000000, val accuracy: 0.000000\n",
      "Loss: 1.230235, Train accuracy: 1.000000, val accuracy: 0.000000\n",
      "Loss: 1.273587, Train accuracy: 1.000000, val accuracy: 0.000000\n",
      "Loss: 1.429608, Train accuracy: 1.000000, val accuracy: 0.000000\n",
      "Loss: 1.597959, Train accuracy: 1.000000, val accuracy: 0.000000\n",
      "Loss: 1.304332, Train accuracy: 1.000000, val accuracy: 0.000000\n",
      "Loss: 1.426923, Train accuracy: 0.933333, val accuracy: 0.000000\n",
      "Loss: 1.253446, Train accuracy: 1.000000, val accuracy: 0.000000\n",
      "Loss: 1.357145, Train accuracy: 1.000000, val accuracy: 0.000000\n",
      "Loss: 1.372301, Train accuracy: 1.000000, val accuracy: 0.000000\n",
      "Loss: 1.268691, Train accuracy: 0.933333, val accuracy: 0.000000\n",
      "Loss: 1.014748, Train accuracy: 1.000000, val accuracy: 0.000000\n",
      "Loss: 1.270173, Train accuracy: 0.933333, val accuracy: 0.000000\n",
      "Loss: 1.273076, Train accuracy: 0.933333, val accuracy: 0.000000\n",
      "Loss: 1.232792, Train accuracy: 1.000000, val accuracy: 0.000000\n",
      "Loss: 1.331552, Train accuracy: 1.000000, val accuracy: 0.000000\n",
      "Loss: 1.110929, Train accuracy: 1.000000, val accuracy: 0.000000\n",
      "Loss: 1.241342, Train accuracy: 1.000000, val accuracy: 0.000000\n",
      "Loss: 1.129068, Train accuracy: 1.000000, val accuracy: 0.000000\n",
      "Loss: 1.225491, Train accuracy: 0.933333, val accuracy: 0.000000\n",
      "Loss: 1.510547, Train accuracy: 1.000000, val accuracy: 0.000000\n",
      "Loss: 1.609049, Train accuracy: 1.000000, val accuracy: 0.000000\n",
      "Loss: 1.448635, Train accuracy: 1.000000, val accuracy: 0.000000\n",
      "Loss: 1.417450, Train accuracy: 1.000000, val accuracy: 0.000000\n",
      "Loss: 1.222003, Train accuracy: 1.000000, val accuracy: 0.000000\n",
      "Loss: 1.279924, Train accuracy: 1.000000, val accuracy: 0.000000\n",
      "Loss: 1.307999, Train accuracy: 1.000000, val accuracy: 0.000000\n",
      "Loss: 1.251119, Train accuracy: 1.000000, val accuracy: 0.000000\n",
      "Loss: 1.437461, Train accuracy: 1.000000, val accuracy: 0.000000\n",
      "Loss: 1.521324, Train accuracy: 1.000000, val accuracy: 0.000000\n",
      "Loss: 1.183888, Train accuracy: 1.000000, val accuracy: 0.000000\n",
      "Loss: 1.490522, Train accuracy: 1.000000, val accuracy: 0.000000\n",
      "Loss: 1.358423, Train accuracy: 1.000000, val accuracy: 0.000000\n",
      "Loss: 1.325039, Train accuracy: 1.000000, val accuracy: 0.000000\n",
      "Loss: 1.217365, Train accuracy: 1.000000, val accuracy: 0.000000\n",
      "Loss: 1.251746, Train accuracy: 1.000000, val accuracy: 0.000000\n",
      "Loss: 1.263018, Train accuracy: 1.000000, val accuracy: 0.000000\n",
      "Loss: 1.223097, Train accuracy: 1.000000, val accuracy: 0.000000\n",
      "Loss: 1.260601, Train accuracy: 1.000000, val accuracy: 0.000000\n",
      "Loss: 1.366600, Train accuracy: 1.000000, val accuracy: 0.000000\n",
      "Loss: 1.364715, Train accuracy: 1.000000, val accuracy: 0.000000\n",
      "Loss: 1.366988, Train accuracy: 1.000000, val accuracy: 0.000000\n",
      "Loss: 1.457699, Train accuracy: 1.000000, val accuracy: 0.000000\n",
      "Loss: 1.296705, Train accuracy: 1.000000, val accuracy: 0.000000\n"
     ]
    }
   ],
   "source": [
    "data_size = 15\n",
    "model = TwoLayerNet(n_input = train_X.shape[1], n_output = 10, hidden_layer_size = 100, reg = 1e-1)\n",
    "dataset = Dataset(train_X[:data_size], train_y[:data_size], val_X[:data_size], val_y[:data_size])\n",
    "trainer = Trainer(model, dataset, SGD(), learning_rate=1e-1, num_epochs=150, batch_size=5)\n",
    "\n",
    "# You should expect this to reach 1.0 training accuracy \n",
    "loss_history, train_history, val_history = trainer.fit()"
   ]
  },
  {
   "cell_type": "markdown",
   "metadata": {},
   "source": [
    "Теперь найдем гипепараметры, для которых этот процесс сходится быстрее.\n",
    "Если все реализовано корректно, то существуют параметры, при которых процесс сходится в **20** эпох или еще быстрее.\n",
    "Найдите их!"
   ]
  },
  {
   "cell_type": "code",
   "execution_count": 46,
   "metadata": {},
   "outputs": [
    {
     "name": "stdout",
     "output_type": "stream",
     "text": [
      "Loss: 2.304112, Train accuracy: 0.200000, val accuracy: 0.133333\n",
      "Loss: 2.281683, Train accuracy: 0.200000, val accuracy: 0.133333\n",
      "Loss: 2.243178, Train accuracy: 0.200000, val accuracy: 0.133333\n",
      "Loss: 2.187644, Train accuracy: 0.266667, val accuracy: 0.000000\n",
      "Loss: 2.064504, Train accuracy: 0.400000, val accuracy: 0.000000\n",
      "Loss: 1.896050, Train accuracy: 0.400000, val accuracy: 0.000000\n",
      "Loss: 1.627733, Train accuracy: 0.466667, val accuracy: 0.000000\n",
      "Loss: 1.679039, Train accuracy: 0.266667, val accuracy: 0.200000\n",
      "Loss: 1.832132, Train accuracy: 0.466667, val accuracy: 0.000000\n",
      "Loss: 1.548683, Train accuracy: 0.400000, val accuracy: 0.000000\n",
      "Loss: 1.690026, Train accuracy: 0.533333, val accuracy: 0.000000\n",
      "Loss: 1.565172, Train accuracy: 0.600000, val accuracy: 0.066667\n",
      "Loss: 1.047842, Train accuracy: 0.733333, val accuracy: 0.066667\n",
      "Loss: 0.841474, Train accuracy: 0.666667, val accuracy: 0.066667\n",
      "Loss: 1.559995, Train accuracy: 0.933333, val accuracy: 0.066667\n",
      "Loss: 0.919244, Train accuracy: 1.000000, val accuracy: 0.000000\n",
      "Loss: 0.809888, Train accuracy: 1.000000, val accuracy: 0.000000\n",
      "Loss: 0.936697, Train accuracy: 0.933333, val accuracy: 0.000000\n",
      "Loss: 1.221731, Train accuracy: 1.000000, val accuracy: 0.066667\n",
      "Loss: 1.283487, Train accuracy: 1.000000, val accuracy: 0.066667\n"
     ]
    }
   ],
   "source": [
    "# Now, tweak some hyper parameters and make it train to 1.0 accuracy in 20 epochs or less\n",
    "\n",
    "model = TwoLayerNet(n_input = train_X.shape[1], n_output = 10, hidden_layer_size = 100, reg = 5e-3)\n",
    "dataset = Dataset(train_X[:data_size], train_y[:data_size], val_X[:data_size], val_y[:data_size])\n",
    "# TODO: Change any hyperparamers or optimizators to reach training accuracy in 20 epochs\n",
    "trainer = Trainer(model, dataset, MomentumSGD(momentum=0.3), learning_rate=6e-1, num_epochs=20, batch_size=100)\n",
    "\n",
    "loss_history, train_history, val_history = trainer.fit()"
   ]
  },
  {
   "cell_type": "markdown",
   "metadata": {},
   "source": [
    "# Итак, основное мероприятие!\n",
    "\n",
    "Натренируйте лучшую нейросеть! Можно добавлять и изменять параметры, менять количество нейронов в слоях сети и как угодно экспериментировать. \n",
    "\n",
    "Добейтесь точности лучше **60%** на validation set."
   ]
  },
  {
   "cell_type": "code",
   "execution_count": 47,
   "metadata": {
    "scrolled": true
   },
   "outputs": [
    {
     "name": "stdout",
     "output_type": "stream",
     "text": [
      "\n",
      "Cycle 1...\n",
      "Loss: 2.300714, Train accuracy: 0.196667, val accuracy: 0.206000\n",
      "Loss: 2.297594, Train accuracy: 0.196667, val accuracy: 0.206000\n",
      "Loss: 2.296733, Train accuracy: 0.196667, val accuracy: 0.206000\n",
      "Loss: 2.283827, Train accuracy: 0.196667, val accuracy: 0.206000\n",
      "Loss: 2.299256, Train accuracy: 0.196667, val accuracy: 0.206000\n",
      "Loss: 2.294846, Train accuracy: 0.196667, val accuracy: 0.206000\n",
      "Loss: 2.290862, Train accuracy: 0.196667, val accuracy: 0.206000\n",
      "Loss: 2.291655, Train accuracy: 0.196667, val accuracy: 0.206000\n",
      "Loss: 2.293372, Train accuracy: 0.196667, val accuracy: 0.206000\n",
      "Loss: 2.289402, Train accuracy: 0.196667, val accuracy: 0.206000\n",
      "\n",
      "Cycle 2...\n",
      "Loss: 2.301528, Train accuracy: 0.196667, val accuracy: 0.206000\n",
      "Loss: 2.296064, Train accuracy: 0.196667, val accuracy: 0.206000\n",
      "Loss: 2.294306, Train accuracy: 0.196667, val accuracy: 0.206000\n",
      "Loss: 2.292044, Train accuracy: 0.196667, val accuracy: 0.206000\n",
      "Loss: 2.293905, Train accuracy: 0.196667, val accuracy: 0.206000\n",
      "Loss: 2.289466, Train accuracy: 0.196667, val accuracy: 0.206000\n",
      "Loss: 2.286695, Train accuracy: 0.196667, val accuracy: 0.206000\n",
      "Loss: 2.295393, Train accuracy: 0.196667, val accuracy: 0.206000\n",
      "Loss: 2.303170, Train accuracy: 0.196667, val accuracy: 0.206000\n",
      "Loss: 2.280332, Train accuracy: 0.196667, val accuracy: 0.206000\n",
      "\n",
      "Cycle 3...\n",
      "Loss: 2.063622, Train accuracy: 0.338667, val accuracy: 0.346000\n",
      "Loss: 1.885586, Train accuracy: 0.471111, val accuracy: 0.478000\n",
      "Loss: 1.013105, Train accuracy: 0.599111, val accuracy: 0.594000\n",
      "Loss: 1.494067, Train accuracy: 0.695444, val accuracy: 0.683000\n",
      "Loss: 0.999757, Train accuracy: 0.703889, val accuracy: 0.661000\n",
      "Loss: 1.386123, Train accuracy: 0.726889, val accuracy: 0.696000\n",
      "Loss: 0.774002, Train accuracy: 0.755444, val accuracy: 0.694000\n",
      "Loss: 1.128250, Train accuracy: 0.787778, val accuracy: 0.723000\n",
      "Loss: 0.577150, Train accuracy: 0.781556, val accuracy: 0.711000\n",
      "Loss: 0.718188, Train accuracy: 0.800000, val accuracy: 0.728000\n",
      "\n",
      "Cycle 4...\n",
      "Loss: 2.308782, Train accuracy: 0.196667, val accuracy: 0.206000\n",
      "Loss: 2.306892, Train accuracy: 0.196667, val accuracy: 0.206000\n",
      "Loss: 2.304887, Train accuracy: 0.196667, val accuracy: 0.206000\n",
      "Loss: 2.308138, Train accuracy: 0.196667, val accuracy: 0.206000\n",
      "Loss: 2.300892, Train accuracy: 0.196667, val accuracy: 0.206000\n",
      "Loss: 2.299643, Train accuracy: 0.196667, val accuracy: 0.206000\n",
      "Loss: 2.299194, Train accuracy: 0.196667, val accuracy: 0.206000\n",
      "Loss: 2.295926, Train accuracy: 0.196667, val accuracy: 0.206000\n",
      "Loss: 2.303713, Train accuracy: 0.196667, val accuracy: 0.206000\n",
      "Loss: 2.285065, Train accuracy: 0.196667, val accuracy: 0.206000\n",
      "\n",
      "Cycle 5...\n",
      "Loss: 2.279463, Train accuracy: 0.196667, val accuracy: 0.206000\n",
      "Loss: 2.259282, Train accuracy: 0.196667, val accuracy: 0.206000\n",
      "Loss: 2.261610, Train accuracy: 0.196667, val accuracy: 0.206000\n",
      "Loss: 2.281059, Train accuracy: 0.196667, val accuracy: 0.206000\n",
      "Loss: 2.259805, Train accuracy: 0.196667, val accuracy: 0.206000\n",
      "Loss: 2.285927, Train accuracy: 0.196667, val accuracy: 0.206000\n",
      "Loss: 2.290154, Train accuracy: 0.196667, val accuracy: 0.206000\n",
      "Loss: 2.221495, Train accuracy: 0.196667, val accuracy: 0.206000\n",
      "Loss: 2.235000, Train accuracy: 0.196667, val accuracy: 0.206000\n",
      "Loss: 2.233581, Train accuracy: 0.196667, val accuracy: 0.206000\n",
      "\n",
      "Cycle 6...\n",
      "Loss: 2.278697, Train accuracy: 0.196667, val accuracy: 0.206000\n",
      "Loss: 2.268201, Train accuracy: 0.196667, val accuracy: 0.206000\n",
      "Loss: 2.252086, Train accuracy: 0.196667, val accuracy: 0.206000\n",
      "Loss: 2.271036, Train accuracy: 0.196667, val accuracy: 0.206000\n",
      "Loss: 2.290596, Train accuracy: 0.196667, val accuracy: 0.206000\n",
      "Loss: 2.242134, Train accuracy: 0.196667, val accuracy: 0.206000\n",
      "Loss: 2.208105, Train accuracy: 0.196667, val accuracy: 0.206000\n",
      "Loss: 2.206791, Train accuracy: 0.196667, val accuracy: 0.206000\n",
      "Loss: 2.239143, Train accuracy: 0.196667, val accuracy: 0.206000\n",
      "Loss: 2.209970, Train accuracy: 0.196667, val accuracy: 0.206000\n",
      "\n",
      "Cycle 7...\n",
      "Loss: 2.308155, Train accuracy: 0.196667, val accuracy: 0.206000\n",
      "Loss: 2.305017, Train accuracy: 0.196667, val accuracy: 0.206000\n",
      "Loss: 2.299984, Train accuracy: 0.196667, val accuracy: 0.206000\n",
      "Loss: 2.305405, Train accuracy: 0.196667, val accuracy: 0.206000\n",
      "Loss: 2.305611, Train accuracy: 0.196667, val accuracy: 0.206000\n",
      "Loss: 2.302383, Train accuracy: 0.196667, val accuracy: 0.206000\n",
      "Loss: 2.305498, Train accuracy: 0.196667, val accuracy: 0.206000\n",
      "Loss: 2.303009, Train accuracy: 0.196667, val accuracy: 0.206000\n",
      "Loss: 2.293907, Train accuracy: 0.196667, val accuracy: 0.206000\n",
      "Loss: 2.289742, Train accuracy: 0.196667, val accuracy: 0.206000\n",
      "\n",
      "Cycle 8...\n",
      "Loss: 2.304353, Train accuracy: 0.196667, val accuracy: 0.206000\n",
      "Loss: 2.298773, Train accuracy: 0.196667, val accuracy: 0.206000\n",
      "Loss: 2.298647, Train accuracy: 0.196667, val accuracy: 0.206000\n",
      "Loss: 2.303113, Train accuracy: 0.196667, val accuracy: 0.206000\n",
      "Loss: 2.302367, Train accuracy: 0.196667, val accuracy: 0.206000\n",
      "Loss: 2.302436, Train accuracy: 0.196667, val accuracy: 0.206000\n",
      "Loss: 2.297535, Train accuracy: 0.196667, val accuracy: 0.206000\n",
      "Loss: 2.288880, Train accuracy: 0.196667, val accuracy: 0.206000\n",
      "Loss: 2.292488, Train accuracy: 0.196667, val accuracy: 0.206000\n",
      "Loss: 2.306159, Train accuracy: 0.196667, val accuracy: 0.206000\n",
      "\n",
      "Cycle 9...\n",
      "Loss: 2.299120, Train accuracy: 0.196667, val accuracy: 0.206000\n",
      "Loss: 2.299615, Train accuracy: 0.196667, val accuracy: 0.206000\n",
      "Loss: 2.293177, Train accuracy: 0.196667, val accuracy: 0.206000\n",
      "Loss: 2.293909, Train accuracy: 0.196667, val accuracy: 0.206000\n",
      "Loss: 2.293672, Train accuracy: 0.196667, val accuracy: 0.206000\n",
      "Loss: 2.287143, Train accuracy: 0.196667, val accuracy: 0.206000\n",
      "Loss: 2.289839, Train accuracy: 0.196667, val accuracy: 0.206000\n",
      "Loss: 2.297663, Train accuracy: 0.196667, val accuracy: 0.206000\n",
      "Loss: 2.293141, Train accuracy: 0.196667, val accuracy: 0.206000\n",
      "Loss: 2.296383, Train accuracy: 0.196667, val accuracy: 0.206000\n",
      "\n",
      "Cycle 10...\n",
      "Loss: 2.284238, Train accuracy: 0.196667, val accuracy: 0.206000\n",
      "Loss: 2.292818, Train accuracy: 0.196667, val accuracy: 0.206000\n",
      "Loss: 2.244470, Train accuracy: 0.196667, val accuracy: 0.206000\n",
      "Loss: 2.249778, Train accuracy: 0.196667, val accuracy: 0.206000\n",
      "Loss: 2.234315, Train accuracy: 0.196667, val accuracy: 0.206000\n",
      "Loss: 2.228406, Train accuracy: 0.196667, val accuracy: 0.206000\n",
      "Loss: 2.200096, Train accuracy: 0.196667, val accuracy: 0.206000\n",
      "Loss: 2.196273, Train accuracy: 0.196667, val accuracy: 0.206000\n",
      "Loss: 2.279347, Train accuracy: 0.196667, val accuracy: 0.206000\n",
      "Loss: 2.302074, Train accuracy: 0.196667, val accuracy: 0.206000\n",
      "\n",
      "Cycle 11...\n",
      "Loss: 2.275061, Train accuracy: 0.196667, val accuracy: 0.206000\n",
      "Loss: 2.255523, Train accuracy: 0.196667, val accuracy: 0.206000\n",
      "Loss: 2.229516, Train accuracy: 0.196667, val accuracy: 0.206000\n",
      "Loss: 2.261088, Train accuracy: 0.196667, val accuracy: 0.206000\n",
      "Loss: 2.291105, Train accuracy: 0.196667, val accuracy: 0.206000\n",
      "Loss: 2.190254, Train accuracy: 0.196667, val accuracy: 0.206000\n",
      "Loss: 2.192848, Train accuracy: 0.196667, val accuracy: 0.206000\n",
      "Loss: 2.190128, Train accuracy: 0.196667, val accuracy: 0.206000\n",
      "Loss: 2.217357, Train accuracy: 0.196667, val accuracy: 0.206000\n",
      "Loss: 2.184618, Train accuracy: 0.196667, val accuracy: 0.206000\n",
      "\n",
      "Cycle 12...\n",
      "Loss: 1.436742, Train accuracy: 0.371333, val accuracy: 0.374000\n",
      "Loss: 1.577903, Train accuracy: 0.495778, val accuracy: 0.492000\n",
      "Loss: 1.073080, Train accuracy: 0.624111, val accuracy: 0.597000\n",
      "Loss: 1.125849, Train accuracy: 0.663556, val accuracy: 0.622000\n",
      "Loss: 1.518633, Train accuracy: 0.735778, val accuracy: 0.683000\n",
      "Loss: 1.052367, Train accuracy: 0.767667, val accuracy: 0.712000\n",
      "Loss: 0.966745, Train accuracy: 0.779111, val accuracy: 0.706000\n",
      "Loss: 0.642187, Train accuracy: 0.806333, val accuracy: 0.715000\n",
      "Loss: 1.015718, Train accuracy: 0.817333, val accuracy: 0.731000\n",
      "Loss: 0.595042, Train accuracy: 0.841444, val accuracy: 0.730000\n",
      "\n",
      "Cycle 13...\n",
      "Loss: 2.273514, Train accuracy: 0.196667, val accuracy: 0.206000\n",
      "Loss: 2.269163, Train accuracy: 0.196667, val accuracy: 0.206000\n",
      "Loss: 2.300618, Train accuracy: 0.196667, val accuracy: 0.206000\n",
      "Loss: 2.239266, Train accuracy: 0.196667, val accuracy: 0.206000\n",
      "Loss: 2.241774, Train accuracy: 0.196667, val accuracy: 0.206000\n",
      "Loss: 2.243243, Train accuracy: 0.196667, val accuracy: 0.206000\n",
      "Loss: 2.263295, Train accuracy: 0.196667, val accuracy: 0.206000\n",
      "Loss: 2.337114, Train accuracy: 0.196667, val accuracy: 0.206000\n",
      "Loss: 2.195723, Train accuracy: 0.196667, val accuracy: 0.206000\n",
      "Loss: 2.206285, Train accuracy: 0.196667, val accuracy: 0.206000\n",
      "\n",
      "Cycle 14...\n",
      "Loss: 2.303597, Train accuracy: 0.196667, val accuracy: 0.206000\n",
      "Loss: 2.258550, Train accuracy: 0.196667, val accuracy: 0.206000\n",
      "Loss: 2.206562, Train accuracy: 0.196667, val accuracy: 0.206000\n",
      "Loss: 2.265131, Train accuracy: 0.227333, val accuracy: 0.235000\n",
      "Loss: 2.249737, Train accuracy: 0.263556, val accuracy: 0.262000\n",
      "Loss: 2.101736, Train accuracy: 0.285000, val accuracy: 0.282000\n",
      "Loss: 1.754645, Train accuracy: 0.319444, val accuracy: 0.323000\n",
      "Loss: 1.957260, Train accuracy: 0.374222, val accuracy: 0.369000\n",
      "Loss: 1.971236, Train accuracy: 0.402444, val accuracy: 0.388000\n",
      "Loss: 1.657185, Train accuracy: 0.426222, val accuracy: 0.423000\n",
      "\n",
      "Cycle 15...\n",
      "Loss: 2.301289, Train accuracy: 0.196667, val accuracy: 0.206000\n",
      "Loss: 2.296853, Train accuracy: 0.196667, val accuracy: 0.206000\n",
      "Loss: 2.296880, Train accuracy: 0.196667, val accuracy: 0.206000\n",
      "Loss: 2.301718, Train accuracy: 0.196667, val accuracy: 0.206000\n",
      "Loss: 2.297752, Train accuracy: 0.196667, val accuracy: 0.206000\n",
      "Loss: 2.292866, Train accuracy: 0.196667, val accuracy: 0.206000\n",
      "Loss: 2.288068, Train accuracy: 0.196667, val accuracy: 0.206000\n",
      "Loss: 2.290276, Train accuracy: 0.196667, val accuracy: 0.206000\n",
      "Loss: 2.287957, Train accuracy: 0.196667, val accuracy: 0.206000\n",
      "Loss: 2.292270, Train accuracy: 0.196667, val accuracy: 0.206000\n"
     ]
    }
   ],
   "source": [
    "# Let's train the best one-hidden-layer network we can\n",
    "from random import choice\n",
    "\n",
    "n_iterations = 15\n",
    "num_epochs = 10\n",
    "learning_rates = [1e-4, 1e-3, 1e-2, 1e-1]\n",
    "reg_strength = [1e-6, 1e-4, 1e-2]\n",
    "learning_rate_decay = [0.888, 0.995, 0.999]\n",
    "hidden_layer_size = [64, 128, 256]\n",
    "batch_size = [64]\n",
    "momentums = [0.1, 0.3, 0.5, 0.7, 0.9]\n",
    "\n",
    "best_classifier = None\n",
    "best_val_accuracy = 0\n",
    "best_params = {}\n",
    "\n",
    "loss_history = []\n",
    "train_history = []\n",
    "val_history = []\n",
    "\n",
    "# TODO find the best hyperparameters to train the network\n",
    "# Don't hesitate to add new values to the arrays above, perform experiments, use any tricks you want\n",
    "# You should expect to get to at least 40% of valudation accuracy\n",
    "# Save loss/train/history of the best classifier to the variables above\n",
    "for i in range(0, n_iterations):    \n",
    "    lr = choice(learning_rates)\n",
    "    reg = choice(reg_strength)\n",
    "    lrd = choice(learning_rate_decay)\n",
    "    hs = choice(hidden_layer_size)\n",
    "    bs = choice(batch_size)\n",
    "    momentum = choice(momentums)\n",
    "    \n",
    "    model = TwoLayerNet(n_input=train_X.shape[1], n_output=10,\n",
    "                        hidden_layer_size=hs, reg=reg)\n",
    "    dataset = Dataset(train_X, train_y, val_X, val_y)\n",
    "    trainer = Trainer(model, dataset, MomentumSGD(momentum=momentum), learning_rate=lr,\n",
    "                      learning_rate_decay=lrd, num_epochs=num_epochs, batch_size=bs)\n",
    "    \n",
    "    print()\n",
    "    print (\"Cycle {}...\".format(i+1))\n",
    "    loss_hist, train_hist, val_hist = trainer.fit()\n",
    "    \n",
    "    if val_hist[-1] > best_val_accuracy:\n",
    "        best_val_accuracy = val_hist[-1]\n",
    "        best_classifier = model\n",
    "        \n",
    "        best_params['learning_rate'] = lr\n",
    "        best_params['reg_strength'] = reg\n",
    "        best_params['learning_rate_decay'] = lrd\n",
    "        best_params['hidden_layer_size'] = hs\n",
    "        best_params['batch_size'] = bs\n",
    "        best_params['momentum'] = momentum\n",
    "        \n",
    "        loss_history = loss_hist\n",
    "        train_history = train_hist\n",
    "        val_history = val_hist"
   ]
  },
  {
   "cell_type": "code",
   "execution_count": 48,
   "metadata": {},
   "outputs": [
    {
     "data": {
      "text/plain": [
       "[<matplotlib.lines.Line2D at 0x730a6df2ba30>]"
      ]
     },
     "execution_count": 48,
     "metadata": {},
     "output_type": "execute_result"
    },
    {
     "data": {
      "image/png": "[encoded data removed]",
      "text/plain": [
       "<Figure size 1500x700 with 2 Axes>"
      ]
     },
     "metadata": {},
     "output_type": "display_data"
    }
   ],
   "source": [
    "plt.figure(figsize=(15, 7))\n",
    "plt.subplot(211)\n",
    "plt.title(\"Loss\")\n",
    "plt.plot(loss_history)\n",
    "plt.subplot(212)\n",
    "plt.title(\"Train/validation accuracy\")\n",
    "plt.plot(train_history)\n",
    "plt.plot(val_history)"
   ]
  },
  {
   "cell_type": "markdown",
   "metadata": {},
   "source": [
    "# Как обычно, посмотрим, как наша лучшая модель работает на тестовых данных"
   ]
  },
  {
   "cell_type": "code",
   "execution_count": 49,
   "metadata": {},
   "outputs": [
    {
     "name": "stdout",
     "output_type": "stream",
     "text": [
      "Neural net test set accuracy: 0.688000\n"
     ]
    }
   ],
   "source": [
    "test_pred = best_classifier.predict(test_X)\n",
    "test_accuracy = multiclass_accuracy(test_pred, test_y)\n",
    "print('Neural net test set accuracy: %f' % (test_accuracy, ))"
   ]
  },
  {
   "cell_type": "code",
   "execution_count": null,
   "metadata": {},
   "outputs": [],
   "source": []
  }
 ],
 "metadata": {
  "kernelspec": {
   "display_name": "Python 3",
   "language": "python",
   "name": "python3"
  },
  "language_info": {
   "codemirror_mode": {
    "name": "ipython",
    "version": 3
   },
   "file_extension": ".py",
   "mimetype": "text/x-python",
   "name": "python",
   "nbconvert_exporter": "python",
   "pygments_lexer": "ipython3",
   "version": "3.10.12"
  }
 },
 "nbformat": 4,
 "nbformat_minor": 2
}
